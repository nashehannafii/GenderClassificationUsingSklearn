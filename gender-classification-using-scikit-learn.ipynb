{
 "cells": [
  {
   "cell_type": "code",
   "execution_count": 1,
   "metadata": {
    "_cell_guid": "b1076dfc-b9ad-4769-8c92-a6c4dae69d19",
    "_uuid": "8f2839f25d086af736a60e9eeb907d3b93b6e0e5",
    "execution": {
     "iopub.execute_input": "2021-10-11T13:27:06.115616Z",
     "iopub.status.busy": "2021-10-11T13:27:06.114624Z",
     "iopub.status.idle": "2021-10-11T13:27:06.817008Z",
     "shell.execute_reply": "2021-10-11T13:27:06.816274Z",
     "shell.execute_reply.started": "2021-10-11T13:26:49.169651Z"
    },
    "papermill": {
     "duration": 0.717709,
     "end_time": "2021-10-11T13:27:06.817207",
     "exception": false,
     "start_time": "2021-10-11T13:27:06.099498",
     "status": "completed"
    },
    "tags": []
   },
   "outputs": [
    {
     "name": "stdout",
     "output_type": "stream",
     "text": [
      "/kaggle/input/gender-classification/Transformed Data Set - Sheet1.csv\n"
     ]
    }
   ],
   "source": [
    "# This Python 3 environment comes with many helpful analytics libraries installed\n",
    "# It is defined by the kaggle/python Docker image: https://github.com/kaggle/docker-python\n",
    "# For example, here's several helpful packages to load\n",
    "\n",
    "import numpy as np # linear algebra\n",
    "import pandas as pd # data processing, CSV file I/O (e.g. pd.read_csv)\n",
    "import matplotlib.pyplot as plt\n",
    "import seaborn as sns\n",
    "\n",
    "# Input data files are available in the read-only \"../input/\" directory\n",
    "# For example, running this (by clicking run or pressing Shift+Enter) will list all files under the input directory\n",
    "\n",
    "import os\n",
    "for dirname, _, filenames in os.walk('/kaggle/input'):\n",
    "    for filename in filenames:\n",
    "        print(os.path.join(dirname, filename))\n",
    "\n",
    "# You can write up to 20GB to the current directory (/kaggle/working/) that gets preserved as output when you create a version using \"Save & Run All\" \n",
    "# You can also write temporary files to /kaggle/temp/, but they won't be saved outside of the current session"
   ]
  },
  {
   "cell_type": "code",
   "execution_count": 2,
   "metadata": {
    "execution": {
     "iopub.execute_input": "2021-10-11T13:27:06.844296Z",
     "iopub.status.busy": "2021-10-11T13:27:06.843665Z",
     "iopub.status.idle": "2021-10-11T13:27:06.853317Z",
     "shell.execute_reply": "2021-10-11T13:27:06.852733Z",
     "shell.execute_reply.started": "2021-10-11T13:26:49.183847Z"
    },
    "papermill": {
     "duration": 0.02425,
     "end_time": "2021-10-11T13:27:06.853439",
     "exception": false,
     "start_time": "2021-10-11T13:27:06.829189",
     "status": "completed"
    },
    "tags": []
   },
   "outputs": [],
   "source": [
    "# Load data\n",
    "df=pd.read_csv('../input/gender-classification/Transformed Data Set - Sheet1.csv')"
   ]
  },
  {
   "cell_type": "code",
   "execution_count": 3,
   "metadata": {
    "execution": {
     "iopub.execute_input": "2021-10-11T13:27:06.887369Z",
     "iopub.status.busy": "2021-10-11T13:27:06.886417Z",
     "iopub.status.idle": "2021-10-11T13:27:06.903982Z",
     "shell.execute_reply": "2021-10-11T13:27:06.903406Z",
     "shell.execute_reply.started": "2021-10-11T13:26:49.198012Z"
    },
    "papermill": {
     "duration": 0.03936,
     "end_time": "2021-10-11T13:27:06.904117",
     "exception": false,
     "start_time": "2021-10-11T13:27:06.864757",
     "status": "completed"
    },
    "tags": []
   },
   "outputs": [
    {
     "data": {
      "text/html": [
       "<div>\n",
       "<style scoped>\n",
       "    .dataframe tbody tr th:only-of-type {\n",
       "        vertical-align: middle;\n",
       "    }\n",
       "\n",
       "    .dataframe tbody tr th {\n",
       "        vertical-align: top;\n",
       "    }\n",
       "\n",
       "    .dataframe thead th {\n",
       "        text-align: right;\n",
       "    }\n",
       "</style>\n",
       "<table border=\"1\" class=\"dataframe\">\n",
       "  <thead>\n",
       "    <tr style=\"text-align: right;\">\n",
       "      <th></th>\n",
       "      <th>Favorite Color</th>\n",
       "      <th>Favorite Music Genre</th>\n",
       "      <th>Favorite Beverage</th>\n",
       "      <th>Favorite Soft Drink</th>\n",
       "      <th>Gender</th>\n",
       "    </tr>\n",
       "  </thead>\n",
       "  <tbody>\n",
       "    <tr>\n",
       "      <th>0</th>\n",
       "      <td>Cool</td>\n",
       "      <td>Rock</td>\n",
       "      <td>Vodka</td>\n",
       "      <td>7UP/Sprite</td>\n",
       "      <td>F</td>\n",
       "    </tr>\n",
       "    <tr>\n",
       "      <th>1</th>\n",
       "      <td>Neutral</td>\n",
       "      <td>Hip hop</td>\n",
       "      <td>Vodka</td>\n",
       "      <td>Coca Cola/Pepsi</td>\n",
       "      <td>F</td>\n",
       "    </tr>\n",
       "    <tr>\n",
       "      <th>2</th>\n",
       "      <td>Warm</td>\n",
       "      <td>Rock</td>\n",
       "      <td>Wine</td>\n",
       "      <td>Coca Cola/Pepsi</td>\n",
       "      <td>F</td>\n",
       "    </tr>\n",
       "    <tr>\n",
       "      <th>3</th>\n",
       "      <td>Warm</td>\n",
       "      <td>Folk/Traditional</td>\n",
       "      <td>Whiskey</td>\n",
       "      <td>Fanta</td>\n",
       "      <td>F</td>\n",
       "    </tr>\n",
       "    <tr>\n",
       "      <th>4</th>\n",
       "      <td>Cool</td>\n",
       "      <td>Rock</td>\n",
       "      <td>Vodka</td>\n",
       "      <td>Coca Cola/Pepsi</td>\n",
       "      <td>F</td>\n",
       "    </tr>\n",
       "  </tbody>\n",
       "</table>\n",
       "</div>"
      ],
      "text/plain": [
       "  Favorite Color Favorite Music Genre Favorite Beverage Favorite Soft Drink  \\\n",
       "0           Cool                 Rock             Vodka          7UP/Sprite   \n",
       "1        Neutral              Hip hop             Vodka     Coca Cola/Pepsi   \n",
       "2           Warm                 Rock              Wine     Coca Cola/Pepsi   \n",
       "3           Warm     Folk/Traditional           Whiskey               Fanta   \n",
       "4           Cool                 Rock             Vodka     Coca Cola/Pepsi   \n",
       "\n",
       "  Gender  \n",
       "0      F  \n",
       "1      F  \n",
       "2      F  \n",
       "3      F  \n",
       "4      F  "
      ]
     },
     "execution_count": 3,
     "metadata": {},
     "output_type": "execute_result"
    }
   ],
   "source": [
    "# Show data head()\n",
    "df.head()"
   ]
  },
  {
   "cell_type": "code",
   "execution_count": 4,
   "metadata": {
    "execution": {
     "iopub.execute_input": "2021-10-11T13:27:06.934220Z",
     "iopub.status.busy": "2021-10-11T13:27:06.933659Z",
     "iopub.status.idle": "2021-10-11T13:27:06.937655Z",
     "shell.execute_reply": "2021-10-11T13:27:06.937064Z",
     "shell.execute_reply.started": "2021-10-11T13:26:49.215515Z"
    },
    "papermill": {
     "duration": 0.021129,
     "end_time": "2021-10-11T13:27:06.937784",
     "exception": false,
     "start_time": "2021-10-11T13:27:06.916655",
     "status": "completed"
    },
    "tags": []
   },
   "outputs": [
    {
     "data": {
      "text/plain": [
       "Favorite Color          0\n",
       "Favorite Music Genre    0\n",
       "Favorite Beverage       0\n",
       "Favorite Soft Drink     0\n",
       "Gender                  0\n",
       "dtype: int64"
      ]
     },
     "execution_count": 4,
     "metadata": {},
     "output_type": "execute_result"
    }
   ],
   "source": [
    "# Preproccessing data (Null)\n",
    "df.isnull().sum()"
   ]
  },
  {
   "cell_type": "code",
   "execution_count": 5,
   "metadata": {
    "execution": {
     "iopub.execute_input": "2021-10-11T13:27:06.964366Z",
     "iopub.status.busy": "2021-10-11T13:27:06.963861Z",
     "iopub.status.idle": "2021-10-11T13:27:06.978435Z",
     "shell.execute_reply": "2021-10-11T13:27:06.978011Z",
     "shell.execute_reply.started": "2021-10-11T13:26:49.230318Z"
    },
    "papermill": {
     "duration": 0.02867,
     "end_time": "2021-10-11T13:27:06.978574",
     "exception": false,
     "start_time": "2021-10-11T13:27:06.949904",
     "status": "completed"
    },
    "tags": []
   },
   "outputs": [
    {
     "name": "stdout",
     "output_type": "stream",
     "text": [
      "<class 'pandas.core.frame.DataFrame'>\n",
      "RangeIndex: 66 entries, 0 to 65\n",
      "Data columns (total 5 columns):\n",
      " #   Column                Non-Null Count  Dtype \n",
      "---  ------                --------------  ----- \n",
      " 0   Favorite Color        66 non-null     object\n",
      " 1   Favorite Music Genre  66 non-null     object\n",
      " 2   Favorite Beverage     66 non-null     object\n",
      " 3   Favorite Soft Drink   66 non-null     object\n",
      " 4   Gender                66 non-null     object\n",
      "dtypes: object(5)\n",
      "memory usage: 2.7+ KB\n"
     ]
    }
   ],
   "source": [
    "df.info()"
   ]
  },
  {
   "cell_type": "code",
   "execution_count": 6,
   "metadata": {
    "execution": {
     "iopub.execute_input": "2021-10-11T13:27:07.007581Z",
     "iopub.status.busy": "2021-10-11T13:27:07.006986Z",
     "iopub.status.idle": "2021-10-11T13:27:07.010124Z",
     "shell.execute_reply": "2021-10-11T13:27:07.009593Z",
     "shell.execute_reply.started": "2021-10-11T13:26:49.249517Z"
    },
    "papermill": {
     "duration": 0.019387,
     "end_time": "2021-10-11T13:27:07.010232",
     "exception": false,
     "start_time": "2021-10-11T13:27:06.990845",
     "status": "completed"
    },
    "tags": []
   },
   "outputs": [],
   "source": [
    "X=df.drop('Gender',axis=1)\n",
    "y=df['Gender']"
   ]
  },
  {
   "cell_type": "code",
   "execution_count": 7,
   "metadata": {
    "execution": {
     "iopub.execute_input": "2021-10-11T13:27:07.039819Z",
     "iopub.status.busy": "2021-10-11T13:27:07.039226Z",
     "iopub.status.idle": "2021-10-11T13:27:07.220332Z",
     "shell.execute_reply": "2021-10-11T13:27:07.219809Z",
     "shell.execute_reply.started": "2021-10-11T13:26:49.261577Z"
    },
    "papermill": {
     "duration": 0.197788,
     "end_time": "2021-10-11T13:27:07.220472",
     "exception": false,
     "start_time": "2021-10-11T13:27:07.022684",
     "status": "completed"
    },
    "tags": []
   },
   "outputs": [],
   "source": [
    "# Split data for training\n",
    "\n",
    "from sklearn.model_selection import train_test_split\n",
    "X_train, X_test, y_train, y_test = train_test_split(X, y, test_size=0.33, random_state=42)"
   ]
  },
  {
   "cell_type": "code",
   "execution_count": 8,
   "metadata": {
    "execution": {
     "iopub.execute_input": "2021-10-11T13:27:07.250991Z",
     "iopub.status.busy": "2021-10-11T13:27:07.250440Z",
     "iopub.status.idle": "2021-10-11T13:27:07.253365Z",
     "shell.execute_reply": "2021-10-11T13:27:07.252776Z",
     "shell.execute_reply.started": "2021-10-11T13:26:49.276672Z"
    },
    "papermill": {
     "duration": 0.019986,
     "end_time": "2021-10-11T13:27:07.253509",
     "exception": false,
     "start_time": "2021-10-11T13:27:07.233523",
     "status": "completed"
    },
    "tags": []
   },
   "outputs": [],
   "source": [
    "cols=list(X.columns)"
   ]
  },
  {
   "cell_type": "code",
   "execution_count": 9,
   "metadata": {
    "execution": {
     "iopub.execute_input": "2021-10-11T13:27:07.282440Z",
     "iopub.status.busy": "2021-10-11T13:27:07.281644Z",
     "iopub.status.idle": "2021-10-11T13:27:07.285503Z",
     "shell.execute_reply": "2021-10-11T13:27:07.285041Z",
     "shell.execute_reply.started": "2021-10-11T13:26:49.288775Z"
    },
    "papermill": {
     "duration": 0.019658,
     "end_time": "2021-10-11T13:27:07.285623",
     "exception": false,
     "start_time": "2021-10-11T13:27:07.265965",
     "status": "completed"
    },
    "tags": []
   },
   "outputs": [
    {
     "data": {
      "text/plain": [
       "['Favorite Color',\n",
       " 'Favorite Music Genre',\n",
       " 'Favorite Beverage',\n",
       " 'Favorite Soft Drink']"
      ]
     },
     "execution_count": 9,
     "metadata": {},
     "output_type": "execute_result"
    }
   ],
   "source": [
    "cols"
   ]
  },
  {
   "cell_type": "code",
   "execution_count": 10,
   "metadata": {
    "execution": {
     "iopub.execute_input": "2021-10-11T13:27:07.314983Z",
     "iopub.status.busy": "2021-10-11T13:27:07.314426Z",
     "iopub.status.idle": "2021-10-11T13:27:07.323039Z",
     "shell.execute_reply": "2021-10-11T13:27:07.322435Z",
     "shell.execute_reply.started": "2021-10-11T13:26:49.301192Z"
    },
    "papermill": {
     "duration": 0.02455,
     "end_time": "2021-10-11T13:27:07.323169",
     "exception": false,
     "start_time": "2021-10-11T13:27:07.298619",
     "status": "completed"
    },
    "tags": []
   },
   "outputs": [],
   "source": [
    "# Preproccessing data (Encoding data)\n",
    "\n",
    "from sklearn.preprocessing import OneHotEncoder\n",
    "onehot= OneHotEncoder()\n",
    "\n",
    "from sklearn.compose import ColumnTransformer\n",
    "clt = ColumnTransformer([('binarize',onehot,cols)], remainder='passthrough')"
   ]
  },
  {
   "cell_type": "code",
   "execution_count": 11,
   "metadata": {
    "execution": {
     "iopub.execute_input": "2021-10-11T13:27:07.359528Z",
     "iopub.status.busy": "2021-10-11T13:27:07.358944Z",
     "iopub.status.idle": "2021-10-11T13:27:07.361529Z",
     "shell.execute_reply": "2021-10-11T13:27:07.360966Z",
     "shell.execute_reply.started": "2021-10-11T13:26:49.312685Z"
    },
    "papermill": {
     "duration": 0.023632,
     "end_time": "2021-10-11T13:27:07.361642",
     "exception": false,
     "start_time": "2021-10-11T13:27:07.338010",
     "status": "completed"
    },
    "tags": []
   },
   "outputs": [],
   "source": [
    "X_train=clt.fit_transform(X_train)"
   ]
  },
  {
   "cell_type": "code",
   "execution_count": 12,
   "metadata": {
    "execution": {
     "iopub.execute_input": "2021-10-11T13:27:07.394729Z",
     "iopub.status.busy": "2021-10-11T13:27:07.394018Z",
     "iopub.status.idle": "2021-10-11T13:27:07.396521Z",
     "shell.execute_reply": "2021-10-11T13:27:07.396031Z",
     "shell.execute_reply.started": "2021-10-11T13:26:49.328550Z"
    },
    "papermill": {
     "duration": 0.022187,
     "end_time": "2021-10-11T13:27:07.396649",
     "exception": false,
     "start_time": "2021-10-11T13:27:07.374462",
     "status": "completed"
    },
    "tags": []
   },
   "outputs": [],
   "source": [
    "X_test=clt.transform(X_test)"
   ]
  },
  {
   "cell_type": "code",
   "execution_count": 13,
   "metadata": {
    "execution": {
     "iopub.execute_input": "2021-10-11T13:27:07.425702Z",
     "iopub.status.busy": "2021-10-11T13:27:07.425100Z",
     "iopub.status.idle": "2021-10-11T13:27:07.580101Z",
     "shell.execute_reply": "2021-10-11T13:27:07.579580Z",
     "shell.execute_reply.started": "2021-10-11T13:26:49.344637Z"
    },
    "papermill": {
     "duration": 0.171174,
     "end_time": "2021-10-11T13:27:07.580226",
     "exception": false,
     "start_time": "2021-10-11T13:27:07.409052",
     "status": "completed"
    },
    "tags": []
   },
   "outputs": [
    {
     "data": {
      "text/plain": [
       "0.5909090909090909"
      ]
     },
     "execution_count": 13,
     "metadata": {},
     "output_type": "execute_result"
    }
   ],
   "source": [
    "# Creating SVC Model for training\n",
    "\n",
    "from sklearn.svm import SVC\n",
    "from sklearn.metrics import classification_report, accuracy_score\n",
    "svc =SVC()\n",
    "svc.fit(X_train,y_train)\n",
    "pred_svc = svc.predict(X_test)\n",
    "accuracy_score(y_test,pred_svc)"
   ]
  },
  {
   "cell_type": "code",
   "execution_count": 14,
   "metadata": {
    "execution": {
     "iopub.execute_input": "2021-10-11T13:27:07.615435Z",
     "iopub.status.busy": "2021-10-11T13:27:07.612520Z",
     "iopub.status.idle": "2021-10-11T13:27:07.618364Z",
     "shell.execute_reply": "2021-10-11T13:27:07.618819Z",
     "shell.execute_reply.started": "2021-10-11T13:26:49.363625Z"
    },
    "papermill": {
     "duration": 0.025354,
     "end_time": "2021-10-11T13:27:07.618954",
     "exception": false,
     "start_time": "2021-10-11T13:27:07.593600",
     "status": "completed"
    },
    "tags": []
   },
   "outputs": [
    {
     "name": "stdout",
     "output_type": "stream",
     "text": [
      "              precision    recall  f1-score   support\n",
      "\n",
      "           F       0.75      0.46      0.57        13\n",
      "           M       0.50      0.78      0.61         9\n",
      "\n",
      "    accuracy                           0.59        22\n",
      "   macro avg       0.62      0.62      0.59        22\n",
      "weighted avg       0.65      0.59      0.59        22\n",
      "\n"
     ]
    }
   ],
   "source": [
    "print(classification_report(y_test,pred_svc))"
   ]
  },
  {
   "cell_type": "code",
   "execution_count": 15,
   "metadata": {
    "execution": {
     "iopub.execute_input": "2021-10-11T13:27:07.649542Z",
     "iopub.status.busy": "2021-10-11T13:27:07.648951Z",
     "iopub.status.idle": "2021-10-11T13:27:07.652417Z",
     "shell.execute_reply": "2021-10-11T13:27:07.651979Z",
     "shell.execute_reply.started": "2021-10-11T13:26:49.376680Z"
    },
    "papermill": {
     "duration": 0.020064,
     "end_time": "2021-10-11T13:27:07.652547",
     "exception": false,
     "start_time": "2021-10-11T13:27:07.632483",
     "status": "completed"
    },
    "tags": []
   },
   "outputs": [
    {
     "data": {
      "text/plain": [
       "66"
      ]
     },
     "execution_count": 15,
     "metadata": {},
     "output_type": "execute_result"
    }
   ],
   "source": [
    "len(df)"
   ]
  },
  {
   "cell_type": "markdown",
   "metadata": {
    "papermill": {
     "duration": 0.013732,
     "end_time": "2021-10-11T13:27:07.679610",
     "exception": false,
     "start_time": "2021-10-11T13:27:07.665878",
     "status": "completed"
    },
    "tags": []
   },
   "source": [
    "# Kesimpulan\n",
    "Alasan hasil memiliki nilai akurasi rendah :\n",
    "1. Dataset sedikit, hanya ada 66 baris.\n",
    "2. Split data yang kurang efisien untuk data yang sedikit."
   ]
  }
 ],
 "metadata": {
  "kernelspec": {
   "display_name": "Python 3",
   "language": "python",
   "name": "python3"
  },
  "language_info": {
   "codemirror_mode": {
    "name": "ipython",
    "version": 3
   },
   "file_extension": ".py",
   "mimetype": "text/x-python",
   "name": "python",
   "nbconvert_exporter": "python",
   "pygments_lexer": "ipython3",
   "version": "3.7.9"
  },
  "papermill": {
   "default_parameters": {},
   "duration": 6.927277,
   "end_time": "2021-10-11T13:27:08.200322",
   "environment_variables": {},
   "exception": null,
   "input_path": "__notebook__.ipynb",
   "output_path": "__notebook__.ipynb",
   "parameters": {},
   "start_time": "2021-10-11T13:27:01.273045",
   "version": "2.2.2"
  }
 },
 "nbformat": 4,
 "nbformat_minor": 4
}
