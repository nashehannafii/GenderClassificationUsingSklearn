{
 "cells": [
  {
   "cell_type": "code",
   "execution_count": 1,
   "metadata": {
    "_cell_guid": "b1076dfc-b9ad-4769-8c92-a6c4dae69d19",
    "_uuid": "8f2839f25d086af736a60e9eeb907d3b93b6e0e5",
    "execution": {
     "iopub.execute_input": "2021-10-11T15:43:32.001447Z",
     "iopub.status.busy": "2021-10-11T15:43:32.000797Z",
     "iopub.status.idle": "2021-10-11T15:43:32.892243Z",
     "shell.execute_reply": "2021-10-11T15:43:32.891453Z",
     "shell.execute_reply.started": "2021-10-11T15:43:06.854037Z"
    },
    "papermill": {
     "duration": 0.907881,
     "end_time": "2021-10-11T15:43:32.892464",
     "exception": false,
     "start_time": "2021-10-11T15:43:31.984583",
     "status": "completed"
    },
    "tags": []
   },
   "outputs": [
    {
     "name": "stdout",
     "output_type": "stream",
     "text": [
      "/kaggle/input/gender-with-fav/Transformed Data Set.csv\n"
     ]
    }
   ],
   "source": [
    "# This Python 3 environment comes with many helpful analytics libraries installed\n",
    "# It is defined by the kaggle/python Docker image: https://github.com/kaggle/docker-python\n",
    "# For example, here's several helpful packages to load\n",
    "\n",
    "import numpy as np # linear algebra\n",
    "import pandas as pd # data processing, CSV file I/O (e.g. pd.read_csv)\n",
    "import matplotlib.pyplot as plt\n",
    "import seaborn as sns\n",
    "\n",
    "# Input data files are available in the read-only \"../input/\" directory\n",
    "# For example, running this (by clicking run or pressing Shift+Enter) will list all files under the input directory\n",
    "\n",
    "import os\n",
    "for dirname, _, filenames in os.walk('/kaggle/input'):\n",
    "    for filename in filenames:\n",
    "        print(os.path.join(dirname, filename))\n",
    "\n",
    "# You can write up to 20GB to the current directory (/kaggle/working/) that gets preserved as output when you create a version using \"Save & Run All\" \n",
    "# You can also write temporary files to /kaggle/temp/, but they won't be saved outside of the current session"
   ]
  },
  {
   "cell_type": "code",
   "execution_count": 2,
   "metadata": {
    "execution": {
     "iopub.execute_input": "2021-10-11T15:43:32.916373Z",
     "iopub.status.busy": "2021-10-11T15:43:32.915614Z",
     "iopub.status.idle": "2021-10-11T15:43:32.940080Z",
     "shell.execute_reply": "2021-10-11T15:43:32.938444Z",
     "shell.execute_reply.started": "2021-10-11T15:43:06.867345Z"
    },
    "papermill": {
     "duration": 0.038453,
     "end_time": "2021-10-11T15:43:32.940266",
     "exception": false,
     "start_time": "2021-10-11T15:43:32.901813",
     "status": "completed"
    },
    "tags": []
   },
   "outputs": [],
   "source": [
    "# Load data\n",
    "df=pd.read_csv('../input/gender-with-fav/Transformed Data Set.csv')"
   ]
  },
  {
   "cell_type": "code",
   "execution_count": 3,
   "metadata": {
    "execution": {
     "iopub.execute_input": "2021-10-11T15:43:32.972230Z",
     "iopub.status.busy": "2021-10-11T15:43:32.971571Z",
     "iopub.status.idle": "2021-10-11T15:43:32.990926Z",
     "shell.execute_reply": "2021-10-11T15:43:32.991437Z",
     "shell.execute_reply.started": "2021-10-11T15:43:06.890499Z"
    },
    "papermill": {
     "duration": 0.042445,
     "end_time": "2021-10-11T15:43:32.991617",
     "exception": false,
     "start_time": "2021-10-11T15:43:32.949172",
     "status": "completed"
    },
    "tags": []
   },
   "outputs": [
    {
     "data": {
      "text/html": [
       "<div>\n",
       "<style scoped>\n",
       "    .dataframe tbody tr th:only-of-type {\n",
       "        vertical-align: middle;\n",
       "    }\n",
       "\n",
       "    .dataframe tbody tr th {\n",
       "        vertical-align: top;\n",
       "    }\n",
       "\n",
       "    .dataframe thead th {\n",
       "        text-align: right;\n",
       "    }\n",
       "</style>\n",
       "<table border=\"1\" class=\"dataframe\">\n",
       "  <thead>\n",
       "    <tr style=\"text-align: right;\">\n",
       "      <th></th>\n",
       "      <th>Favorite Color</th>\n",
       "      <th>Favorite Music Genre</th>\n",
       "      <th>Favorite Beverage</th>\n",
       "      <th>Favorite Soft Drink</th>\n",
       "      <th>Gender</th>\n",
       "    </tr>\n",
       "  </thead>\n",
       "  <tbody>\n",
       "    <tr>\n",
       "      <th>0</th>\n",
       "      <td>Cool</td>\n",
       "      <td>Rock</td>\n",
       "      <td>Vodka</td>\n",
       "      <td>7UP/Sprite</td>\n",
       "      <td>F</td>\n",
       "    </tr>\n",
       "    <tr>\n",
       "      <th>1</th>\n",
       "      <td>Neutral</td>\n",
       "      <td>Hip hop</td>\n",
       "      <td>Vodka</td>\n",
       "      <td>Coca Cola/Pepsi</td>\n",
       "      <td>F</td>\n",
       "    </tr>\n",
       "    <tr>\n",
       "      <th>2</th>\n",
       "      <td>Warm</td>\n",
       "      <td>Rock</td>\n",
       "      <td>Wine</td>\n",
       "      <td>Coca Cola/Pepsi</td>\n",
       "      <td>F</td>\n",
       "    </tr>\n",
       "    <tr>\n",
       "      <th>3</th>\n",
       "      <td>Warm</td>\n",
       "      <td>Folk/Traditional</td>\n",
       "      <td>Whiskey</td>\n",
       "      <td>Fanta</td>\n",
       "      <td>F</td>\n",
       "    </tr>\n",
       "    <tr>\n",
       "      <th>4</th>\n",
       "      <td>Cool</td>\n",
       "      <td>Rock</td>\n",
       "      <td>Vodka</td>\n",
       "      <td>Coca Cola/Pepsi</td>\n",
       "      <td>F</td>\n",
       "    </tr>\n",
       "  </tbody>\n",
       "</table>\n",
       "</div>"
      ],
      "text/plain": [
       "  Favorite Color Favorite Music Genre Favorite Beverage Favorite Soft Drink  \\\n",
       "0           Cool                 Rock             Vodka          7UP/Sprite   \n",
       "1        Neutral              Hip hop             Vodka     Coca Cola/Pepsi   \n",
       "2           Warm                 Rock              Wine     Coca Cola/Pepsi   \n",
       "3           Warm     Folk/Traditional           Whiskey               Fanta   \n",
       "4           Cool                 Rock             Vodka     Coca Cola/Pepsi   \n",
       "\n",
       "  Gender  \n",
       "0      F  \n",
       "1      F  \n",
       "2      F  \n",
       "3      F  \n",
       "4      F  "
      ]
     },
     "execution_count": 3,
     "metadata": {},
     "output_type": "execute_result"
    }
   ],
   "source": [
    "# Show data head()\n",
    "df.head()"
   ]
  },
  {
   "cell_type": "code",
   "execution_count": 4,
   "metadata": {
    "execution": {
     "iopub.execute_input": "2021-10-11T15:43:33.016378Z",
     "iopub.status.busy": "2021-10-11T15:43:33.015722Z",
     "iopub.status.idle": "2021-10-11T15:43:33.022913Z",
     "shell.execute_reply": "2021-10-11T15:43:33.022301Z",
     "shell.execute_reply.started": "2021-10-11T15:43:06.914253Z"
    },
    "papermill": {
     "duration": 0.022532,
     "end_time": "2021-10-11T15:43:33.023057",
     "exception": false,
     "start_time": "2021-10-11T15:43:33.000525",
     "status": "completed"
    },
    "tags": []
   },
   "outputs": [
    {
     "data": {
      "text/plain": [
       "Favorite Color          0\n",
       "Favorite Music Genre    0\n",
       "Favorite Beverage       0\n",
       "Favorite Soft Drink     0\n",
       "Gender                  0\n",
       "dtype: int64"
      ]
     },
     "execution_count": 4,
     "metadata": {},
     "output_type": "execute_result"
    }
   ],
   "source": [
    "# Preproccessing data (Null)\n",
    "df.isnull().sum()"
   ]
  },
  {
   "cell_type": "code",
   "execution_count": 5,
   "metadata": {
    "execution": {
     "iopub.execute_input": "2021-10-11T15:43:33.059069Z",
     "iopub.status.busy": "2021-10-11T15:43:33.056305Z",
     "iopub.status.idle": "2021-10-11T15:43:33.063129Z",
     "shell.execute_reply": "2021-10-11T15:43:33.062566Z",
     "shell.execute_reply.started": "2021-10-11T15:43:06.932279Z"
    },
    "papermill": {
     "duration": 0.03097,
     "end_time": "2021-10-11T15:43:33.063272",
     "exception": false,
     "start_time": "2021-10-11T15:43:33.032302",
     "status": "completed"
    },
    "tags": []
   },
   "outputs": [
    {
     "name": "stdout",
     "output_type": "stream",
     "text": [
      "<class 'pandas.core.frame.DataFrame'>\n",
      "RangeIndex: 1056 entries, 0 to 1055\n",
      "Data columns (total 5 columns):\n",
      " #   Column                Non-Null Count  Dtype \n",
      "---  ------                --------------  ----- \n",
      " 0   Favorite Color        1056 non-null   object\n",
      " 1   Favorite Music Genre  1056 non-null   object\n",
      " 2   Favorite Beverage     1056 non-null   object\n",
      " 3   Favorite Soft Drink   1056 non-null   object\n",
      " 4   Gender                1056 non-null   object\n",
      "dtypes: object(5)\n",
      "memory usage: 41.4+ KB\n"
     ]
    }
   ],
   "source": [
    "df.info()"
   ]
  },
  {
   "cell_type": "code",
   "execution_count": 6,
   "metadata": {
    "execution": {
     "iopub.execute_input": "2021-10-11T15:43:33.087973Z",
     "iopub.status.busy": "2021-10-11T15:43:33.087312Z",
     "iopub.status.idle": "2021-10-11T15:43:33.090352Z",
     "shell.execute_reply": "2021-10-11T15:43:33.089766Z",
     "shell.execute_reply.started": "2021-10-11T15:43:06.952778Z"
    },
    "papermill": {
     "duration": 0.01772,
     "end_time": "2021-10-11T15:43:33.090500",
     "exception": false,
     "start_time": "2021-10-11T15:43:33.072780",
     "status": "completed"
    },
    "tags": []
   },
   "outputs": [],
   "source": [
    "X=df.drop('Gender',axis=1)\n",
    "y=df['Gender']"
   ]
  },
  {
   "cell_type": "code",
   "execution_count": 7,
   "metadata": {
    "execution": {
     "iopub.execute_input": "2021-10-11T15:43:33.114359Z",
     "iopub.status.busy": "2021-10-11T15:43:33.113634Z",
     "iopub.status.idle": "2021-10-11T15:43:33.352437Z",
     "shell.execute_reply": "2021-10-11T15:43:33.352950Z",
     "shell.execute_reply.started": "2021-10-11T15:43:06.963758Z"
    },
    "papermill": {
     "duration": 0.253076,
     "end_time": "2021-10-11T15:43:33.353161",
     "exception": false,
     "start_time": "2021-10-11T15:43:33.100085",
     "status": "completed"
    },
    "tags": []
   },
   "outputs": [],
   "source": [
    "# Split data for training\n",
    "\n",
    "from sklearn.model_selection import train_test_split\n",
    "X_train, X_test, y_train, y_test = train_test_split(X, y, test_size=0.33, random_state=42)"
   ]
  },
  {
   "cell_type": "code",
   "execution_count": 8,
   "metadata": {
    "execution": {
     "iopub.execute_input": "2021-10-11T15:43:33.379116Z",
     "iopub.status.busy": "2021-10-11T15:43:33.378222Z",
     "iopub.status.idle": "2021-10-11T15:43:33.381892Z",
     "shell.execute_reply": "2021-10-11T15:43:33.381310Z",
     "shell.execute_reply.started": "2021-10-11T15:43:06.978996Z"
    },
    "papermill": {
     "duration": 0.017497,
     "end_time": "2021-10-11T15:43:33.382044",
     "exception": false,
     "start_time": "2021-10-11T15:43:33.364547",
     "status": "completed"
    },
    "tags": []
   },
   "outputs": [],
   "source": [
    "cols=list(X.columns)"
   ]
  },
  {
   "cell_type": "code",
   "execution_count": 9,
   "metadata": {
    "execution": {
     "iopub.execute_input": "2021-10-11T15:43:33.406346Z",
     "iopub.status.busy": "2021-10-11T15:43:33.405466Z",
     "iopub.status.idle": "2021-10-11T15:43:33.410413Z",
     "shell.execute_reply": "2021-10-11T15:43:33.409922Z",
     "shell.execute_reply.started": "2021-10-11T15:43:06.992663Z"
    },
    "papermill": {
     "duration": 0.018926,
     "end_time": "2021-10-11T15:43:33.410552",
     "exception": false,
     "start_time": "2021-10-11T15:43:33.391626",
     "status": "completed"
    },
    "tags": []
   },
   "outputs": [
    {
     "data": {
      "text/plain": [
       "['Favorite Color',\n",
       " 'Favorite Music Genre',\n",
       " 'Favorite Beverage',\n",
       " 'Favorite Soft Drink']"
      ]
     },
     "execution_count": 9,
     "metadata": {},
     "output_type": "execute_result"
    }
   ],
   "source": [
    "cols"
   ]
  },
  {
   "cell_type": "code",
   "execution_count": 10,
   "metadata": {
    "execution": {
     "iopub.execute_input": "2021-10-11T15:43:33.437142Z",
     "iopub.status.busy": "2021-10-11T15:43:33.436385Z",
     "iopub.status.idle": "2021-10-11T15:43:33.447796Z",
     "shell.execute_reply": "2021-10-11T15:43:33.447227Z",
     "shell.execute_reply.started": "2021-10-11T15:43:07.010254Z"
    },
    "papermill": {
     "duration": 0.026852,
     "end_time": "2021-10-11T15:43:33.447956",
     "exception": false,
     "start_time": "2021-10-11T15:43:33.421104",
     "status": "completed"
    },
    "tags": []
   },
   "outputs": [],
   "source": [
    "# Preproccessing data (Encoding data)\n",
    "\n",
    "from sklearn.preprocessing import OneHotEncoder\n",
    "onehot= OneHotEncoder()\n",
    "\n",
    "from sklearn.compose import ColumnTransformer\n",
    "clt = ColumnTransformer([('binarize',onehot,cols)], remainder='passthrough')"
   ]
  },
  {
   "cell_type": "code",
   "execution_count": 11,
   "metadata": {
    "execution": {
     "iopub.execute_input": "2021-10-11T15:43:33.476208Z",
     "iopub.status.busy": "2021-10-11T15:43:33.474129Z",
     "iopub.status.idle": "2021-10-11T15:43:33.484156Z",
     "shell.execute_reply": "2021-10-11T15:43:33.483488Z",
     "shell.execute_reply.started": "2021-10-11T15:43:07.020828Z"
    },
    "papermill": {
     "duration": 0.025837,
     "end_time": "2021-10-11T15:43:33.484299",
     "exception": false,
     "start_time": "2021-10-11T15:43:33.458462",
     "status": "completed"
    },
    "tags": []
   },
   "outputs": [],
   "source": [
    "X_train=clt.fit_transform(X_train)"
   ]
  },
  {
   "cell_type": "code",
   "execution_count": 12,
   "metadata": {
    "execution": {
     "iopub.execute_input": "2021-10-11T15:43:33.512504Z",
     "iopub.status.busy": "2021-10-11T15:43:33.511876Z",
     "iopub.status.idle": "2021-10-11T15:43:33.514825Z",
     "shell.execute_reply": "2021-10-11T15:43:33.514341Z",
     "shell.execute_reply.started": "2021-10-11T15:43:07.043171Z"
    },
    "papermill": {
     "duration": 0.020805,
     "end_time": "2021-10-11T15:43:33.514977",
     "exception": false,
     "start_time": "2021-10-11T15:43:33.494172",
     "status": "completed"
    },
    "tags": []
   },
   "outputs": [],
   "source": [
    "X_test=clt.transform(X_test)"
   ]
  },
  {
   "cell_type": "code",
   "execution_count": 13,
   "metadata": {
    "execution": {
     "iopub.execute_input": "2021-10-11T15:43:33.540433Z",
     "iopub.status.busy": "2021-10-11T15:43:33.539798Z",
     "iopub.status.idle": "2021-10-11T15:43:33.747171Z",
     "shell.execute_reply": "2021-10-11T15:43:33.746619Z",
     "shell.execute_reply.started": "2021-10-11T15:43:07.059941Z"
    },
    "papermill": {
     "duration": 0.222595,
     "end_time": "2021-10-11T15:43:33.747315",
     "exception": false,
     "start_time": "2021-10-11T15:43:33.524720",
     "status": "completed"
    },
    "tags": []
   },
   "outputs": [
    {
     "data": {
      "text/plain": [
       "0.9369627507163324"
      ]
     },
     "execution_count": 13,
     "metadata": {},
     "output_type": "execute_result"
    }
   ],
   "source": [
    "# Creating SVC Model for training\n",
    "\n",
    "from sklearn.svm import SVC\n",
    "from sklearn.metrics import classification_report, accuracy_score\n",
    "svc =SVC()\n",
    "svc.fit(X_train,y_train)\n",
    "pred_svc = svc.predict(X_test)\n",
    "accuracy_score(y_test,pred_svc)"
   ]
  }
 ],
 "metadata": {
  "kernelspec": {
   "display_name": "Python 3",
   "language": "python",
   "name": "python3"
  },
  "language_info": {
   "codemirror_mode": {
    "name": "ipython",
    "version": 3
   },
   "file_extension": ".py",
   "mimetype": "text/x-python",
   "name": "python",
   "nbconvert_exporter": "python",
   "pygments_lexer": "ipython3",
   "version": "3.7.9"
  },
  "papermill": {
   "default_parameters": {},
   "duration": 7.735738,
   "end_time": "2021-10-11T15:43:34.366624",
   "environment_variables": {},
   "exception": null,
   "input_path": "__notebook__.ipynb",
   "output_path": "__notebook__.ipynb",
   "parameters": {},
   "start_time": "2021-10-11T15:43:26.630886",
   "version": "2.2.2"
  }
 },
 "nbformat": 4,
 "nbformat_minor": 4
}
